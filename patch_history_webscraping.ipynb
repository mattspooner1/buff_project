{
 "cells": [
  {
   "cell_type": "code",
   "execution_count": 8,
   "metadata": {},
   "outputs": [],
   "source": [
    "import pandas as pd\n",
    "import numpy as np\n",
    "import requests\n",
    "from bs4 import BeautifulSoup"
   ]
  },
  {
   "cell_type": "code",
   "execution_count": 9,
   "metadata": {},
   "outputs": [],
   "source": [
    "champs = pd.read_csv (r'champs.csv')"
   ]
  },
  {
   "cell_type": "code",
   "execution_count": 10,
   "metadata": {},
   "outputs": [],
   "source": [
    "\n",
    "def getchanges(patch):\n",
    "    url = \"https://www.pcgamesn.com/league-of-legends/lol-patch-\"+str(patch)\n",
    "    html_data  = requests.get(url).text\n",
    "    soup = BeautifulSoup(html_data,\"html5lib\")\n",
    "    tables = soup.find_all(\"tbody\")\n",
    "    changes = soup.find_all(\"h4\")\n",
    "\n",
    "    df = pd.DataFrame(columns=['champ','change'])\n",
    "\n",
    "    for j in champs['champs']:\n",
    "        for k in range(0,len(changes)):\n",
    "            if j in changes[k].text and 'nerfed' in changes[k].text:\n",
    "                df = df.append({\"champ\":j, \"change\":-1},ignore_index=True)\n",
    "            elif j in changes[k].text and 'buffed' in changes[k].text:\n",
    "                df = df.append({\"champ\":j, \"change\":1},ignore_index=True)\n",
    "            elif j in changes[k].text:\n",
    "                df = df.append({\"champ\":j, \"change\":0},ignore_index=True)\n",
    "        if j not in df.values:\n",
    "            df = df.append({\"champ\":j, \"change\":0},ignore_index=True)\n",
    "    df.to_csv(str(patch)+'changes.csv')"
   ]
  },
  {
   "cell_type": "code",
   "execution_count": 13,
   "metadata": {},
   "outputs": [],
   "source": [
    "def getcsv ():\n",
    "    for X in range (1,17):\n",
    "        getchanges(\"11\"+str(X))"
   ]
  },
  {
   "cell_type": "code",
   "execution_count": 14,
   "metadata": {},
   "outputs": [],
   "source": [
    "getcsv()"
   ]
  },
  {
   "cell_type": "code",
   "execution_count": null,
   "metadata": {},
   "outputs": [],
   "source": []
  }
 ],
 "metadata": {
  "kernelspec": {
   "display_name": "Python 3",
   "language": "python",
   "name": "python3"
  },
  "language_info": {
   "codemirror_mode": {
    "name": "ipython",
    "version": 3
   },
   "file_extension": ".py",
   "mimetype": "text/x-python",
   "name": "python",
   "nbconvert_exporter": "python",
   "pygments_lexer": "ipython3",
   "version": "3.8.3"
  }
 },
 "nbformat": 4,
 "nbformat_minor": 4
}
