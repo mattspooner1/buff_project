{
 "cells": [
  {
   "cell_type": "code",
   "execution_count": 3,
   "metadata": {},
   "outputs": [],
   "source": [
    "import pandas as pd\n",
    "import numpy as np\n",
    "import requests\n",
    "from bs4 import BeautifulSoup"
   ]
  },
  {
   "cell_type": "code",
   "execution_count": 59,
   "metadata": {},
   "outputs": [],
   "source": [
    "def getdataframe(patch):   \n",
    "    \n",
    "    url1 = \"https://www.metasrc.com/5v5/\"+str(patch)+\"/stats?ranks=iron,bronze,silver,gold\"\n",
    "    url2 = \"https://www.metasrc.com/5v5/\"+str(patch)+\"/stats?ranks=platinum,diamond,master,grandmaster\"\n",
    "    url3 = \"https://www.metasrc.com/5v5/\"+str(patch)+\"/stats?ranks=challenger\"\n",
    "    \n",
    "    html_data1  = requests.get(url1).text\n",
    "    html_data2  = requests.get(url2).text\n",
    "    html_data3  = requests.get(url3).text\n",
    "\n",
    "    soup1 = BeautifulSoup(html_data1,\"html5lib\")\n",
    "    soup2 = BeautifulSoup(html_data2,\"html5lib\")\n",
    "    soup3 = BeautifulSoup(html_data3,\"html5lib\")\n",
    "    tables1 = soup1.find_all(\"tbody\")\n",
    "    tables2 = soup2.find_all(\"tbody\")\n",
    "    tables3 = soup3.find_all(\"tbody\")\n",
    "\n",
    "\n",
    "    df1 = pd.DataFrame(columns=[\"champ\",\"role\",\"winrate\",\"banrate\",\"pickrate\"])\n",
    "    df2 = pd.DataFrame(columns=[\"champ\",\"role\",\"winrate\",\"banrate\",\"pickrate\"])\n",
    "    df3 = pd.DataFrame(columns=[\"champ\",\"role\",\"winrate\",\"banrate\",\"pickrate\"])\n",
    "    for k in tables1[0].find_all(\"tr\"):\n",
    "        col = k.find_all(\"td\")\n",
    "        if len(col) < 10:\n",
    "            continue\n",
    "        champ   =col[0].text\n",
    "        role    =col[1].text\n",
    "        winrate =col[5].text\n",
    "        banrate =col[8].text\n",
    "        pickrate=col[7].text\n",
    "        df1 = df1.append({\"champ\":champ,\"role\" : role, \"winrate\" : winrate, \"banrate\":banrate, \"pickrate\":pickrate}, ignore_index=True)\n",
    "        df1['banrate']  = df1['banrate'].replace({'%':''}, regex=True)\n",
    "        df1['winrate']  = df1['winrate'].replace({'%':''}, regex=True)\n",
    "        df1['pickrate'] = df1['pickrate'].replace({'%':''}, regex=True)\n",
    "        \n",
    "    for k in tables2[0].find_all(\"tr\"):\n",
    "        col = k.find_all(\"td\")\n",
    "        if len(col) < 10:\n",
    "            continue\n",
    "        champ   =col[0].text\n",
    "        role    =col[1].text\n",
    "        winrate =col[5].text\n",
    "        banrate =col[8].text\n",
    "        pickrate=col[7].text\n",
    "        df2 = df2.append({\"champ\":champ,\"role\" : role, \"winrate\" : winrate, \"banrate\":banrate, \"pickrate\":pickrate}, ignore_index=True)\n",
    "        df2['banrate']  = df2['banrate'].replace({'%':''}, regex=True)\n",
    "        df2['winrate']  = df2['winrate'].replace({'%':''}, regex=True)\n",
    "        df2['pickrate'] = df2['pickrate'].replace({'%':''}, regex=True)\n",
    "        \n",
    "    for k in tables3[0].find_all(\"tr\"):\n",
    "        col = k.find_all(\"td\")\n",
    "        if len(col) < 10:\n",
    "            continue\n",
    "        champ   =col[0].text\n",
    "        role    =col[1].text\n",
    "        winrate =col[5].text\n",
    "        banrate =col[8].text\n",
    "        pickrate=col[7].text\n",
    "        df3 = df3.append({\"champ\":champ,\"role\" : role, \"winrate\" : winrate, \"banrate\":banrate, \"pickrate\":pickrate}, ignore_index=True)\n",
    "        df3['banrate']  = df3['banrate'].replace({'%':''}, regex=True)\n",
    "        df3['winrate']  = df3['winrate'].replace({'%':''}, regex=True)\n",
    "        df3['pickrate'] = df3['pickrate'].replace({'%':''}, regex=True)\n",
    "        \n",
    "    df1[\"champ\"] = df1[\"champ\"].apply(lambda champ: champ[int(len(champ)/2):])\n",
    "    df2[\"champ\"] = df2[\"champ\"].apply(lambda champ: champ[int(len(champ)/2):])\n",
    "    df3[\"champ\"] = df3[\"champ\"].apply(lambda champ: champ[int(len(champ)/2):])\n",
    "    \n",
    "    df1.to_csv(str(patch)+'iron,bronze,silver,gold.csv')\n",
    "    df2.to_csv(str(patch)+'platinum,diamond,master,grandmaster.csv')\n",
    "    df3.to_csv(str(patch)+'challenger.csv')"
   ]
  },
  {
   "cell_type": "code",
   "execution_count": 63,
   "metadata": {},
   "outputs": [],
   "source": [
    "def getcsv ():\n",
    "    for X in range (1,17):\n",
    "        getdataframe(\"11.\"+str(X))"
   ]
  },
  {
   "cell_type": "code",
   "execution_count": 64,
   "metadata": {},
   "outputs": [],
   "source": []
  },
  {
   "cell_type": "code",
   "execution_count": null,
   "metadata": {},
   "outputs": [],
   "source": []
  }
 ],
 "metadata": {
  "kernelspec": {
   "display_name": "Python 3",
   "language": "python",
   "name": "python3"
  },
  "language_info": {
   "codemirror_mode": {
    "name": "ipython",
    "version": 3
   },
   "file_extension": ".py",
   "mimetype": "text/x-python",
   "name": "python",
   "nbconvert_exporter": "python",
   "pygments_lexer": "ipython3",
   "version": "3.8.3"
  }
 },
 "nbformat": 4,
 "nbformat_minor": 4
}
